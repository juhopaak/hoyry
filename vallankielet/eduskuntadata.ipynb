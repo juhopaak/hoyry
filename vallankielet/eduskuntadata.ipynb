{
 "cells": [
  {
   "cell_type": "code",
   "execution_count": 8,
   "metadata": {},
   "outputs": [],
   "source": [
    "import requests\n",
    "import json\n",
    "import re\n",
    "import string\n",
    "from string import digits"
   ]
  },
  {
   "cell_type": "code",
   "execution_count": 14,
   "metadata": {},
   "outputs": [],
   "source": [
    "def clean_str(text):\n",
    "    text = re.sub('<.*?>',\" \", text)\n",
    "    text = text.lower()\n",
    "    text = text.translate(string.maketrans(\"\",\"\"), string.punctuation)\n",
    "    text = text.translate(None, digits)\n",
    "    text = ' '.join( [w for w in text.split() if len(w)>1] )\n",
    "    text = text.replace('§', '')\n",
    "    text = text.replace( '  ', ' ' )\n",
    "    text = text.replace( '    ', ' ' )\n",
    "        \n",
    "    return text.strip()"
   ]
  },
  {
   "cell_type": "code",
   "execution_count": 15,
   "metadata": {},
   "outputs": [],
   "source": [
    "def get_data(page):\n",
    "    r = requests.get(\"http://avoindata.eduskunta.fi/api/v1/tables/VaskiData/batch?pkStartValue=\" + str(page) + \"&pkName=Id\")\n",
    "    \n",
    "    data = json.loads(r.text)\n",
    "    \n",
    "    return data['rowData']"
   ]
  },
  {
   "cell_type": "code",
   "execution_count": 16,
   "metadata": {},
   "outputs": [],
   "source": [
    "def get_text(text_data):\n",
    "    \n",
    "    kappaleet = text_data.split('<sis:KappaleKooste>')\n",
    "    text = ''\n",
    "    \n",
    "    for kpl in kappaleet:\n",
    "        \n",
    "        sisalto = kpl.split('</sis:KappaleKooste>')\n",
    "        \n",
    "        if len(sisalto) > 1:\n",
    "            \n",
    "            text += clean_str( sisalto[0].encode('utf-8') )\n",
    "            text += ' '\n",
    "    \n",
    "    return text.strip()"
   ]
  },
  {
   "cell_type": "code",
   "execution_count": 17,
   "metadata": {},
   "outputs": [],
   "source": [
    "def write_data(data, folder):\n",
    "    \n",
    "    for d in data:\n",
    "        \n",
    "        text = get_text(d[1])\n",
    "        \n",
    "        if text:\n",
    "            with open('texts/' + folder + '/id_' + d[0] + '.txt', 'w') as f:\n",
    "                f.write(text)"
   ]
  },
  {
   "cell_type": "code",
   "execution_count": 18,
   "metadata": {},
   "outputs": [],
   "source": [
    "folder = 'clean'\n",
    "start = 1\n",
    "stop = 10000\n",
    "\n",
    "for page in range(start, stop, 100):\n",
    "    data = get_data(page)\n",
    "    write_data(data, folder)"
   ]
  }
 ],
 "metadata": {
  "kernelspec": {
   "display_name": "Python 2",
   "language": "python",
   "name": "python2"
  },
  "language_info": {
   "codemirror_mode": {
    "name": "ipython",
    "version": 2
   },
   "file_extension": ".py",
   "mimetype": "text/x-python",
   "name": "python",
   "nbconvert_exporter": "python",
   "pygments_lexer": "ipython2",
   "version": "2.7.15"
  }
 },
 "nbformat": 4,
 "nbformat_minor": 2
}
