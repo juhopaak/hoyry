{
 "cells": [
  {
   "cell_type": "code",
   "execution_count": 1,
   "metadata": {},
   "outputs": [],
   "source": [
    "from gensim.models import FastText\n",
    "from gensim.models import Word2Vec\n",
    "\n",
    "from sklearn.decomposition import PCA\n",
    "from sklearn.manifold import TSNE\n",
    "import seaborn as sns\n",
    "import pandas as pd\n",
    "\n",
    "%matplotlib inline\n",
    "import matplotlib.pyplot as plt"
   ]
  },
  {
   "cell_type": "markdown",
   "metadata": {},
   "source": [
    "## Check models"
   ]
  },
  {
   "cell_type": "code",
   "execution_count": 11,
   "metadata": {},
   "outputs": [],
   "source": [
    "model_ft_doc = FastText.load(\"models/fasttext_doc\")\n",
    "model_w2v_doc = Word2Vec.load(\"models/w2v_doc\")\n",
    "model_ft_sen = FastText.load(\"models/fasttext_sen\")\n",
    "model_w2v_sen = Word2Vec.load(\"models/w2v_sen\")"
   ]
  },
  {
   "cell_type": "code",
   "execution_count": 15,
   "metadata": {},
   "outputs": [
    {
     "name": "stdout",
     "output_type": "stream",
     "text": [
      "[('asetus', 0.6654728055000305), ('voimaantulosäännöksen', 0.4646611511707306), ('valkuaisveron', 0.44757983088493347), ('laiksi', 0.44592708349227905), ('muutetaan', 0.4403388202190399), ('väliaikaisesta', 0.43962162733078003), ('päätös', 0.4387626647949219), ('säätämisestä', 0.4273509383201599), ('ilmoitusperusteisesta', 0.41885361075401306), ('voimaantulosäännösten', 0.40928956866264343)]\n",
      "[('asetus', 0.6453289985656738), ('laiksi', 0.6009200811386108), ('väliaikaisesta', 0.5712264776229858), ('muutetaan', 0.5249903202056885), ('moittimisajasta', 0.4956638813018799), ('momlaki', 0.4774267077445984), ('eduskunnan', 0.4773203134536743), ('kumotaan', 0.471310019493103), ('kiinteistönsaannon', 0.46193408966064453), ('säätämisestä', 0.447407066822052)]\n",
      "[('aki', 0.8580690622329712), ('yvalaki', 0.8556310534477234), ('jalaki', 0.8551520705223083), ('momlaki', 0.8549357652664185), ('adoptiolaki', 0.8112454414367676), ('rehulaki', 0.8036662936210632), ('puitelaki', 0.7919964790344238), ('kudoslaki', 0.7753685712814331), ('lakit', 0.7681319117546082), ('kolttalaki', 0.7654328942298889)]\n",
      "[('momlaki', 0.8865746259689331), ('jalaki', 0.875108003616333), ('yvalaki', 0.8690328598022461), ('aki', 0.8616583347320557), ('museolaki', 0.826248049736023), ('adoptiolaki', 0.8231631517410278), ('rehulaki', 0.8222968578338623), ('puitelaki', 0.8057699203491211), ('kudoslaki', 0.7990639209747314), ('holhouslaki', 0.7902814745903015)]\n"
     ]
    }
   ],
   "source": [
    "print(model_w2v_doc.wv.most_similar('laki'))\n",
    "print(model_w2v_sen.wv.most_similar('laki'))\n",
    "print(model_ft_doc.wv.most_similar('laki'))\n",
    "print(model_ft_sen.wv.most_similar('laki'))"
   ]
  },
  {
   "cell_type": "markdown",
   "metadata": {},
   "source": [
    "## Visualize selected model"
   ]
  },
  {
   "cell_type": "code",
   "execution_count": 66,
   "metadata": {},
   "outputs": [],
   "source": [
    "df = pd.DataFrame(model.wv.vectors)\n",
    "data = df.loc[0:19999,].copy()"
   ]
  },
  {
   "cell_type": "code",
   "execution_count": 67,
   "metadata": {},
   "outputs": [
    {
     "data": {
      "text/plain": [
       "0.7614675299264491"
      ]
     },
     "execution_count": 67,
     "metadata": {},
     "output_type": "execute_result"
    }
   ],
   "source": [
    "pca = PCA(n_components=50)\n",
    "pca_res = pca.fit_transform(data)\n",
    "sum(pca.explained_variance_ratio_)"
   ]
  },
  {
   "cell_type": "code",
   "execution_count": 68,
   "metadata": {},
   "outputs": [
    {
     "name": "stdout",
     "output_type": "stream",
     "text": [
      "[t-SNE] Computing 121 nearest neighbors...\n",
      "[t-SNE] Indexed 20000 samples in 0.123s...\n",
      "[t-SNE] Computed neighbors for 20000 samples in 90.814s...\n",
      "[t-SNE] Computed conditional probabilities for sample 1000 / 20000\n",
      "[t-SNE] Computed conditional probabilities for sample 2000 / 20000\n",
      "[t-SNE] Computed conditional probabilities for sample 3000 / 20000\n",
      "[t-SNE] Computed conditional probabilities for sample 4000 / 20000\n",
      "[t-SNE] Computed conditional probabilities for sample 5000 / 20000\n",
      "[t-SNE] Computed conditional probabilities for sample 6000 / 20000\n",
      "[t-SNE] Computed conditional probabilities for sample 7000 / 20000\n",
      "[t-SNE] Computed conditional probabilities for sample 8000 / 20000\n",
      "[t-SNE] Computed conditional probabilities for sample 9000 / 20000\n",
      "[t-SNE] Computed conditional probabilities for sample 10000 / 20000\n",
      "[t-SNE] Computed conditional probabilities for sample 11000 / 20000\n",
      "[t-SNE] Computed conditional probabilities for sample 12000 / 20000\n",
      "[t-SNE] Computed conditional probabilities for sample 13000 / 20000\n",
      "[t-SNE] Computed conditional probabilities for sample 14000 / 20000\n",
      "[t-SNE] Computed conditional probabilities for sample 15000 / 20000\n",
      "[t-SNE] Computed conditional probabilities for sample 16000 / 20000\n",
      "[t-SNE] Computed conditional probabilities for sample 17000 / 20000\n",
      "[t-SNE] Computed conditional probabilities for sample 18000 / 20000\n",
      "[t-SNE] Computed conditional probabilities for sample 19000 / 20000\n",
      "[t-SNE] Computed conditional probabilities for sample 20000 / 20000\n",
      "[t-SNE] Mean sigma: 5.719858\n",
      "[t-SNE] KL divergence after 250 iterations with early exaggeration: 100.338799\n",
      "[t-SNE] KL divergence after 300 iterations: 4.149560\n",
      "t-SNE done! Time elapsed: 147.32327795028687 seconds\n"
     ]
    }
   ],
   "source": [
    "import time\n",
    "\n",
    "time_start = time.time()\n",
    "tsne = TSNE(n_components=2, verbose=1, perplexity=40, n_iter=300)\n",
    "tsne_res = tsne.fit_transform(data)\n",
    "print('t-SNE done! Time elapsed: {} seconds'.format(time.time() - time_start))"
   ]
  },
  {
   "cell_type": "code",
   "execution_count": 69,
   "metadata": {},
   "outputs": [],
   "source": [
    "data['tsne1'] = tsne_res[:,0]\n",
    "data['tsne2'] = tsne_res[:,1]"
   ]
  },
  {
   "cell_type": "code",
   "execution_count": 70,
   "metadata": {},
   "outputs": [],
   "source": [
    "vocab = list(model.wv.vocab.keys())"
   ]
  },
  {
   "cell_type": "code",
   "execution_count": null,
   "metadata": {},
   "outputs": [],
   "source": [
    "plt.figure(figsize=(50,50))\n",
    "p = sns.scatterplot(x=\"tsne1\", y=\"tsne2\", data = data, alpha=0.3)\n",
    "\n",
    "for i in range(0, 19999, 100):\n",
    "    p.text(data['tsne1'][i], data['tsne2'][i], vocab[i], size='medium', color='black', weight='semibold')"
   ]
  },
  {
   "cell_type": "code",
   "execution_count": null,
   "metadata": {},
   "outputs": [],
   "source": []
  }
 ],
 "metadata": {
  "kernelspec": {
   "display_name": "Python 3",
   "language": "python",
   "name": "python3"
  },
  "language_info": {
   "codemirror_mode": {
    "name": "ipython",
    "version": 3
   },
   "file_extension": ".py",
   "mimetype": "text/x-python",
   "name": "python",
   "nbconvert_exporter": "python",
   "pygments_lexer": "ipython3",
   "version": "3.7.7"
  }
 },
 "nbformat": 4,
 "nbformat_minor": 4
}
