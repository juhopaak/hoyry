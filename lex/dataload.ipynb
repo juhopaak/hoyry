{
 "cells": [
  {
   "cell_type": "markdown",
   "metadata": {},
   "source": [
    "## Finlex API"
   ]
  },
  {
   "cell_type": "code",
   "execution_count": 40,
   "metadata": {},
   "outputs": [],
   "source": [
    "# https://data.finlex.fi/fi/rest-api\n",
    "\n",
    "# Legislation\n",
    "# https://data.finlex.fi/eli/sd/2004/1.html\n",
    "# https://data.finlex.fi/eli/sd/2004/1.jsonld\n",
    "\n",
    "# Case law\n",
    "# https://data.finlex.fi/ecli/kho/2011/1.html\n",
    "# https://data.finlex.fi/ecli/kho/2011/1.jsonld"
   ]
  },
  {
   "cell_type": "code",
   "execution_count": 37,
   "metadata": {},
   "outputs": [],
   "source": [
    "import os\n",
    "import requests\n",
    "import json\n",
    "import re\n",
    "import string\n",
    "import pandas as pd"
   ]
  },
  {
   "cell_type": "code",
   "execution_count": 38,
   "metadata": {},
   "outputs": [],
   "source": [
    "def clean(s):\n",
    "    s = re.sub(\"\\n\", \"\", s)\n",
    "    s = s.translate(str.maketrans('', '', string.punctuation + string.digits))\n",
    "    s = re.sub(\"§(\\S+)?\", \"\", s)\n",
    "    s = re.sub(\" +\", \" \", s)\n",
    "    s = re.sub(\"(^| ).( |$)\", \" \", s)\n",
    "    s = re.sub(\"–\", \"\", s)\n",
    "    s = s.strip()\n",
    "    s = s.lower()\n",
    "    return(s)"
   ]
  },
  {
   "cell_type": "code",
   "execution_count": 46,
   "metadata": {
    "scrolled": false
   },
   "outputs": [
    {
     "name": "stdout",
     "output_type": "stream",
     "text": [
      "1980: 144\n",
      "1981: 187\n",
      "1982: 200\n",
      "1983: 197\n",
      "1984: 234\n",
      "1985: 200\n",
      "1986: 171\n",
      "1987: 136\n",
      "1988: 140\n",
      "1989: 157\n",
      "1990: 180\n",
      "1991: 189\n",
      "1992: 197\n",
      "1993: 170\n",
      "1994: 145\n",
      "1995: 215\n",
      "1996: 156\n",
      "1997: 211\n",
      "1998: 164\n",
      "1999: 129\n",
      "2000: 129\n",
      "2001: 138\n",
      "2002: 124\n",
      "2003: 138\n",
      "2004: 136\n",
      "2005: 145\n",
      "2006: 110\n",
      "2007: 103\n",
      "2008: 119\n",
      "2009: 94\n",
      "2010: 96\n",
      "2011: 111\n",
      "2012: 109\n",
      "2013: 102\n",
      "2014: 104\n",
      "2015: 105\n",
      "2016: 100\n",
      "2017: 98\n",
      "2018: 92\n",
      "2019: 89\n"
     ]
    }
   ],
   "source": [
    "data_type = \"ecli/kko\"\n",
    "\n",
    "for year in range(1700, 2020):\n",
    "    \n",
    "    data = []\n",
    "    \n",
    "    url = \"https://data.finlex.fi/\" + data_type + \"/\" + str(year) + \".jsonld\"\n",
    "    r = requests.get(url)\n",
    "    \n",
    "    d_json = json.loads(r.text)\n",
    "    \n",
    "    if \"error\" in d_json.keys():\n",
    "        continue\n",
    "        \n",
    "    for i in range(0, len(d_json['@graph'])):\n",
    "        \n",
    "        if data_type == \"eli/sd\":\n",
    "            d = d_json['@graph'][i]['temporalVersions'][0]['languageVersion'][0]\n",
    "            text = clean(d['title_fi'][0] + \" \" + d['content'])\n",
    "        elif data_type == \"ecli/kho\":\n",
    "            d = d_json['@graph'][i]['languageVersion'][0]\n",
    "            text = clean(d['abstract_fi'][0])\n",
    "        else:\n",
    "            d = d_json['@graph'][i]['languageVersion'][0]\n",
    "            \n",
    "            if 'hasFormat' in d.keys():\n",
    "                text = clean(d['abstract_fi'][0] + \" \" + d['hasFormat'][0]['content_fi'])\n",
    "            elif 'content_fi' in d.keys():\n",
    "                text = clean(d['abstract_fi'][0] + \" \" + d['content_fi'])\n",
    "            else:\n",
    "                text = clean(d['abstract_fi'][0])\n",
    "\n",
    "        data.append(\n",
    "            {\n",
    "                \"id\" : d['@id'],\n",
    "                \"type\" : d['@type'],\n",
    "                \"year\" : year,\n",
    "                \"text\" : text,\n",
    "                \"url\" : url\n",
    "            }\n",
    "        )\n",
    "    \n",
    "    if data:\n",
    "        print(str(year) + \": \" + str(len(data)))\n",
    "        with open('data/' + data_type.split(\"/\")[1] + '/' + str(year) + '.json', 'w') as f:\n",
    "            json.dump(data, f)"
   ]
  },
  {
   "cell_type": "code",
   "execution_count": 11,
   "metadata": {},
   "outputs": [],
   "source": [
    "with open(\"data/sd/\" + os.listdir(\"data/sd\")[100], 'r') as f:\n",
    "    d = json.load(f)"
   ]
  }
 ],
 "metadata": {
  "kernelspec": {
   "display_name": "Python 3",
   "language": "python",
   "name": "python3"
  },
  "language_info": {
   "codemirror_mode": {
    "name": "ipython",
    "version": 3
   },
   "file_extension": ".py",
   "mimetype": "text/x-python",
   "name": "python",
   "nbconvert_exporter": "python",
   "pygments_lexer": "ipython3",
   "version": "3.7.0"
  }
 },
 "nbformat": 4,
 "nbformat_minor": 2
}
