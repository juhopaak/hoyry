{
 "cells": [
  {
   "cell_type": "code",
   "execution_count": 40,
   "metadata": {},
   "outputs": [],
   "source": [
    "import os\n",
    "import json\n",
    "import pandas as pd"
   ]
  },
  {
   "cell_type": "code",
   "execution_count": 41,
   "metadata": {},
   "outputs": [],
   "source": [
    "paths = [\"data/kho/\" + x for x in os.listdir(\"data/kho\")]\n",
    "paths += [\"data/kko/\" + x for x in os.listdir(\"data/kko\")]\n",
    "paths += [\"data/sd/\" + x for x in os.listdir(\"data/sd\")]"
   ]
  },
  {
   "cell_type": "code",
   "execution_count": 42,
   "metadata": {},
   "outputs": [],
   "source": [
    "data = []\n",
    "\n",
    "for i in range(0, len(paths)):\n",
    "    with open(paths[i], 'r') as f:\n",
    "        data += json.load(f)\n",
    "        \n",
    "df = pd.DataFrame(data)\n",
    "del data"
   ]
  },
  {
   "cell_type": "code",
   "execution_count": 43,
   "metadata": {},
   "outputs": [],
   "source": [
    "df.sort_values(\"year\", inplace = True)\n",
    "df.reset_index(inplace = True)\n",
    "df.drop(\"index\", 1, inplace = True)"
   ]
  },
  {
   "cell_type": "code",
   "execution_count": 44,
   "metadata": {},
   "outputs": [],
   "source": [
    "from libvoikko import Voikko\n",
    "import re\n",
    "import string\n",
    "\n",
    "def clean(s):\n",
    "    s = re.sub(\"\\n\", \"\", s)\n",
    "    s = s.translate(str.maketrans('', '', string.punctuation + string.digits))\n",
    "    s = re.sub(\"§(\\S+)?\", \"\", s)\n",
    "    s = re.sub(\" +\", \" \", s)\n",
    "    s = re.sub(\"(^| ).( |$)\", \" \", s)\n",
    "    s = re.sub(\"–\", \"\", s)\n",
    "    s = s.strip()\n",
    "    s = s.lower()\n",
    "    return(s)"
   ]
  },
  {
   "cell_type": "code",
   "execution_count": 46,
   "metadata": {},
   "outputs": [],
   "source": [
    "# Use voikko for sentence tokenization and lemmatizing\n",
    "voikko = Voikko(\"fi\")"
   ]
  },
  {
   "cell_type": "code",
   "execution_count": 47,
   "metadata": {},
   "outputs": [],
   "source": [
    "df['text'] = df['text'].apply(lambda x: clean(x).split())"
   ]
  },
  {
   "cell_type": "code",
   "execution_count": 48,
   "metadata": {},
   "outputs": [
    {
     "data": {
      "text/plain": [
       "0        [kauppakaari, kauppakaari, lukukaupasta, ja, v...\n",
       "1        [rakennuskaari, rakennuskaari, luku, luku, on,...\n",
       "2        [oikeudenkäymiskaari, oikeudenkäymiskaari, luk...\n",
       "3        [maakaari, maakaari, luku, maan, huoneen, ja, ...\n",
       "4        [konkurssisääntö, kumottu, konkurssisääntö, ku...\n",
       "                               ...                        \n",
       "62621    [valtioneuvoston, asetus, maatilan, investoint...\n",
       "62622    [ulkoministeriön, asetus, palestiinalaishallin...\n",
       "62623    [valtioneuvoston, asetus, alusten, aiheuttaman...\n",
       "62624    [valtiovarainministeriön, asetus, suomen, hall...\n",
       "62625    [valtioneuvoston, asetus, ympäristönsuojelusta...\n",
       "Name: text, Length: 62626, dtype: object"
      ]
     },
     "execution_count": 48,
     "metadata": {},
     "output_type": "execute_result"
    }
   ],
   "source": [
    "texts = df['text']\n",
    "texts"
   ]
  },
  {
   "cell_type": "code",
   "execution_count": null,
   "metadata": {},
   "outputs": [],
   "source": [
    "from gensim.models.fasttext import FastText"
   ]
  },
  {
   "cell_type": "code",
   "execution_count": 228,
   "metadata": {},
   "outputs": [],
   "source": [
    "# https://radimrehurek.com/gensim/auto_examples/tutorials/run_fasttext.html#sphx-glr-auto-examples-tutorials-run-fasttext-py\n",
    "model = FastText(texts, size = 200, window = 5, min_count = 5)"
   ]
  },
  {
   "cell_type": "code",
   "execution_count": 229,
   "metadata": {},
   "outputs": [
    {
     "name": "stdout",
     "output_type": "stream",
     "text": [
      "FastText(vocab=208397, size=100, alpha=0.025)\n"
     ]
    }
   ],
   "source": [
    "print(model)"
   ]
  },
  {
   "cell_type": "code",
   "execution_count": 241,
   "metadata": {},
   "outputs": [],
   "source": [
    "model.save(\"models/full_model\")"
   ]
  }
 ],
 "metadata": {
  "kernelspec": {
   "display_name": "Python 3",
   "language": "python",
   "name": "python3"
  },
  "language_info": {
   "codemirror_mode": {
    "name": "ipython",
    "version": 3
   },
   "file_extension": ".py",
   "mimetype": "text/x-python",
   "name": "python",
   "nbconvert_exporter": "python",
   "pygments_lexer": "ipython3",
   "version": "3.7.7"
  }
 },
 "nbformat": 4,
 "nbformat_minor": 4
}
