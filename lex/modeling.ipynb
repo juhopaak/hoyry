{
 "cells": [
  {
   "cell_type": "code",
   "execution_count": 222,
   "metadata": {},
   "outputs": [],
   "source": [
    "import os\n",
    "import json\n",
    "import pandas as pd\n",
    "from gensim.models.fasttext import FastText"
   ]
  },
  {
   "cell_type": "code",
   "execution_count": 223,
   "metadata": {},
   "outputs": [],
   "source": [
    "paths = [\"data/kho/\" + x for x in os.listdir(\"data/kho\")]\n",
    "paths += [\"data/kko/\" + x for x in os.listdir(\"data/kko\")]\n",
    "paths += [\"data/sd/\" + x for x in os.listdir(\"data/sd\")]"
   ]
  },
  {
   "cell_type": "code",
   "execution_count": 224,
   "metadata": {},
   "outputs": [],
   "source": [
    "data = []\n",
    "\n",
    "for i in range(0, len(paths)):\n",
    "    with open(paths[i], 'r') as f:\n",
    "        data += json.load(f)\n",
    "        \n",
    "df = pd.DataFrame(data)\n",
    "del data"
   ]
  },
  {
   "cell_type": "code",
   "execution_count": 225,
   "metadata": {},
   "outputs": [],
   "source": [
    "df.sort_values(\"year\", inplace = True)\n",
    "df.reset_index(inplace = True)\n",
    "df.drop(\"index\", 1, inplace = True)"
   ]
  },
  {
   "cell_type": "code",
   "execution_count": 226,
   "metadata": {},
   "outputs": [],
   "source": [
    "df['text'] = df['text'].apply(lambda x: x.split())"
   ]
  },
  {
   "cell_type": "code",
   "execution_count": 227,
   "metadata": {},
   "outputs": [
    {
     "data": {
      "text/plain": [
       "0        [oikeudenkäymiskaari, oikeudenkäymiskaari, luk...\n",
       "1        [kauppakaari, kauppakaari, lukukaupasta, ja, v...\n",
       "2        [rakennuskaari, rakennuskaari, luku, luku, on,...\n",
       "3        [maakaari, maakaari, luku, maan, huoneen, ja, ...\n",
       "4        [konkurssisääntö, kumottu, konkurssisääntö, ku...\n",
       "                               ...                        \n",
       "62405    [laki, kalastuksesta, tenojoen, vesistössä, no...\n",
       "62406    [laki, ilmailulain, muuttamisesta, laki, ilmai...\n",
       "62407    [laki, henkilötietojen, käsittelystä, tullissa...\n",
       "62408    [laki, koulumatkatukilain, muuttamisesta, laki...\n",
       "62409    [rakennusurakan, tilaaja, oli, lähettänyt, ura...\n",
       "Name: text, Length: 62410, dtype: object"
      ]
     },
     "execution_count": 227,
     "metadata": {},
     "output_type": "execute_result"
    }
   ],
   "source": [
    "texts = df['text']\n",
    "texts"
   ]
  },
  {
   "cell_type": "code",
   "execution_count": 228,
   "metadata": {},
   "outputs": [],
   "source": [
    "# https://radimrehurek.com/gensim/auto_examples/tutorials/run_fasttext.html#sphx-glr-auto-examples-tutorials-run-fasttext-py\n",
    "model = FastText(sentences = texts, window = 5, size = 100, min_count = 5)"
   ]
  },
  {
   "cell_type": "code",
   "execution_count": 229,
   "metadata": {},
   "outputs": [
    {
     "name": "stdout",
     "output_type": "stream",
     "text": [
      "FastText(vocab=208397, size=100, alpha=0.025)\n"
     ]
    }
   ],
   "source": [
    "print(model)"
   ]
  },
  {
   "cell_type": "code",
   "execution_count": 260,
   "metadata": {},
   "outputs": [
    {
     "name": "stdout",
     "output_type": "stream",
     "text": [
      "'koronavirus' included in vocabulary:\n",
      "False\n",
      "\n",
      "Most similar words:\n"
     ]
    },
    {
     "data": {
      "text/plain": [
       "[('potassium', 0.7814205884933472),\n",
       " ('fosforipentakloridi', 0.7703386545181274),\n",
       " ('tritium', 0.7698299884796143),\n",
       " ('emepronium', 0.7675131559371948),\n",
       " ('phleum', 0.7662776708602905),\n",
       " ('delphinium', 0.7641345262527466),\n",
       " ('triticum', 0.7605825662612915),\n",
       " ('strontium', 0.7605584859848022),\n",
       " ('esculentum', 0.7595813274383545),\n",
       " ('argentum', 0.75655597448349)]"
      ]
     },
     "execution_count": 260,
     "metadata": {},
     "output_type": "execute_result"
    }
   ],
   "source": [
    "word = \"koronavirus\"\n",
    "print(\"\\'\" + word + \"\\'\" + \" included in vocabulary:\")\n",
    "print(word in model.wv.vocab)\n",
    "print(\"\")\n",
    "print(\"Most similar words:\")\n",
    "model.wv.most_similar(word)"
   ]
  },
  {
   "cell_type": "code",
   "execution_count": 241,
   "metadata": {},
   "outputs": [],
   "source": [
    "model.save(\"models/full_model\")\n",
    "# model = FastText.load(\"models/test_model\")"
   ]
  }
 ],
 "metadata": {
  "kernelspec": {
   "display_name": "Python 3",
   "language": "python",
   "name": "python3"
  },
  "language_info": {
   "codemirror_mode": {
    "name": "ipython",
    "version": 3
   },
   "file_extension": ".py",
   "mimetype": "text/x-python",
   "name": "python",
   "nbconvert_exporter": "python",
   "pygments_lexer": "ipython3",
   "version": "3.7.7"
  }
 },
 "nbformat": 4,
 "nbformat_minor": 4
}
