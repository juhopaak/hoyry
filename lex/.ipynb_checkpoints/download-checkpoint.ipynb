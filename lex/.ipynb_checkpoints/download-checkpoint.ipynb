{
 "cells": [
  {
   "cell_type": "markdown",
   "metadata": {},
   "source": [
    "## Finlex API"
   ]
  },
  {
   "cell_type": "code",
   "execution_count": 148,
   "metadata": {},
   "outputs": [],
   "source": [
    "# https://data.finlex.fi/fi/rest-api\n",
    "\n",
    "# Legislation\n",
    "# https://data.finlex.fi/eli/sd/2004/1.html\n",
    "# https://data.finlex.fi/eli/sd/2004/1.jsonld\n",
    "\n",
    "# Case law\n",
    "# https://data.finlex.fi/ecli/kho/2011/1.html\n",
    "# https://data.finlex.fi/ecli/kho/2011/1.jsonld"
   ]
  },
  {
   "cell_type": "code",
   "execution_count": 149,
   "metadata": {},
   "outputs": [],
   "source": [
    "import requests\n",
    "import json\n",
    "import re\n",
    "import string"
   ]
  },
  {
   "cell_type": "code",
   "execution_count": 150,
   "metadata": {},
   "outputs": [],
   "source": [
    "def clean(s):\n",
    "    s = re.sub(\"\\n\", \"\", s)\n",
    "    s = s.translate(str.maketrans('', '', string.punctuation + string.digits))\n",
    "    s = re.sub(\"§(\\S+)?\", \"\", s)\n",
    "    s = re.sub(\" +\", \" \", s)\n",
    "    s = s.strip()\n",
    "    s = s.lower()\n",
    "    return(s)"
   ]
  },
  {
   "cell_type": "code",
   "execution_count": 151,
   "metadata": {},
   "outputs": [],
   "source": [
    "r = requests.get(\"https://data.finlex.fi/eli/sd/2004/1.jsonld\")"
   ]
  },
  {
   "cell_type": "code",
   "execution_count": 152,
   "metadata": {},
   "outputs": [],
   "source": [
    "data = json.loads(r.text)"
   ]
  },
  {
   "cell_type": "code",
   "execution_count": 153,
   "metadata": {},
   "outputs": [],
   "source": [
    "text = data['temporalVersion']['languageVersion']['hasFormat']['content_fi']\n",
    "text = clean(text)"
   ]
  },
  {
   "cell_type": "code",
   "execution_count": 154,
   "metadata": {},
   "outputs": [
    {
     "data": {
      "text/plain": [
       "'valtioneuvoston asetus maaseudun kehittämisestä annetun asetuksen muuttamisesta valtioneuvoston päätöksen mukaisesti joka on tehty maa ja metsätalousministeriön esittelystä kumotaan maaseudun kehittämisestä päivänä kesäkuuta annetun valtioneuvoston asetuksen momentti ja momentti muutetaan momentin kohta momentti ja momentin kohta momentti momentti momentti momentti momentin johtolause ja momentti momentti otsikko ja momentti momentti momentti ja momentti sellaisina kuin niistä ovat momentti ja momentti asetuksessa ja momentti asetuksessa sekä lisätään asetukseen momenttiin uusi kohta a uusi a ja b sekä uusi ― momentti seuraavasti määritelmät tässä asetuksessa tarkoitetaan maaseutuyritykseen rinnastettavalla yrityksellä sellaista rahoituslain momentissa tarkoitettuna yritystä joka työllistää enintään viittä vuosityöpaikkaa vastaavasti ketjuun kuuluvista yrityksistä vähintään puolet tulee olla rahoituslain momentin kohdassa tarkoitettuja yrityksiä tuen saajat tuen myöntämisen edellytyksenä on että momentissa tarkoitettu yrittäjä taikka b tai tarkoitetut edellytykset täyttävä yhteisö harjoittaa tai ryhtyy harjoittamaan rahoituslain momentin tai kohdassa taikka momentissa tarkoitettua yritystoimintaa tai täyttää rahoituslain momentissa säädetyt edellytykset muilta osin se mitä tässä asetuksessa säädetään maaseutuyrityksestä koskee myös maaseutuyritykseen rinnastettavaa yritystä ja momentissa tarkoitettua yritystä jollei jäljempänä toisin säädetä tukea voidaan lisäksi myöntää pääosin luonnollisten henkilöiden muodostaman alueellisesti tai paikallisesti toimivan yhteisön sellaiseen investointiin jonka tarkoituksena on tuotantokustannusten alentaminen yhteistoiminnan lisääminen taikka ympäristönsuojelun tai maisemanhoidon edistäminen yhteisön osakkaiden tai jäsenten maatiloilla taikka yhteisön omalla maatilalla taikka maatiloilla a kaupallisen yrityksen tavoin toimivalle kohdassa tarkoitetut edellytykset täyttävälle yhteisölle joka harjoittaa muuta toimintaa kuin maataloustuotteiden tuotantoa jalostusta tai markkinointia omaan taikka jäsentensä tai osakkaidensa lukuun a metsätalouden harjoittaja edellä tarkoitetulle yrittäjälle tai yritykselle joka ei harjoita maataloutta voidaan myöntää tukea metsätaloutta koskevaan hankkeeseen tai toimenpiteeseen tukea ei kuitenkaan saa myöntää kestävän metsätalouden rahoituksesta annetun lain mukaiseen toimintaan tuen myöntämisen edellytyksenä on että hakijan omistaman metsän kestävä hakkuumäärä on vähintään kuutiometriä vuodessa yrittäjä tai hakijana olevan yhteisön määräysvaltaiset osakkaat tai jäsenet osallistuvat itse puunkorjuutyöhön ja metsätalouden tulot muodostavat vähintään puolet yrittäjän tai määräysvaltaisten jäsenten tai osakkaiden vuotuisista kokonaistuloista edellä momentissa säädetyt edellytykset täyttävälle yrittäjälle tai yritykselle joka harjoittaa tai ryhtyy harjoittamaan metsätaloutta ja sen yhteydessä muuta yritystoimintaa voidaan myöntää tukea muuta yritystoimintaa varten jos metsän kestävä hakkuumäärä on vähintään kuutiometriä vuodessa ja metsätaloudesta ja muusta yritystoiminnasta saatavat yrittäjän tai määräysvaltaisten osakkaiden tai jäsenten tulot muodostavat vähintään puolet heidän vuotuisista kokonaistuloistaan b maaseutuyritykseen rinnastettava yritys tuen myöntämisen edellytyksenä maaseutuyritykseen rinnastettavalle yritykselle on että yritys osallistuu kehittämishankkeeseen siten että kehittämishankkeen päätyttyä yritys toimii osana rahoituslain momentissa tarkoitettua ketjua tai yrityksellä on tuotanto osto myynti tai muu sopimus tuotanto tai palvelutoimintaansa oleellisesti liittyvien maaseutuyritysten tai maaseutuyritysten ja muiden tämä asetuksen momentin kohdassa tarkoitettujen yritysten kanssa edellä momentin kohdassa tarkoitetun sopimuksen tulee olla kestoltaan ja laajuudeltaan yrityksen toimintaan nähden tarkoituksenmukaisella tavalla pitkäjänteinen niitä edellytyksiä ja ehtoja jotka koskevat maaseutuyritykseen rinnastettavaa yritystä sovelletaan myös myönnettäessä tukea maatilan ulkopuolella toteutettavaan maaseutuyrityksen hankkeeseen tai toimenpiteeseen yhteisömuotoinen maaseutuyritys tuen saajana myönnettäessä tukea momentissa tarkoitetulle yhteisölle yhteisön tukikelpoisuutta sekä tuettavia hankkeita ja toimenpiteitä koskee soveltuvin osin mitä ― ja sekä ja luvussa säädetään yhteisön sekä maatalousoppilaitoksen maatilasta vastaavan tulosyksikön on osoitettava että se toimii taloudellisesti kestävällä tavalla jos yhteisö ei harjoita maataloutta omalla maatilallaan tai muuta yritystoimintaa omaan lukuunsa tuen myöntämisen edellytyksenä momentin ja kohdassa tarkoitetulle yhteisölle on lisäksi että se osoittaa jäsentensä tai osakkaidensa täyttävän säädetyt edellytykset sekä heidän maatilojensa ja säädetyt edellytykset maatilan omistus jos maatilan omistaa kaksi tai useampi henkilö yhdessä tulee kaikkien yhdessä hakea tukea ja jokaisen hakijan täyttää momentissa säädetyt edellytykset ja vähintään yhden kolmasosan maatilasta olla yhden tai useamman sellaisen hakijan omistuksessa joka täyttää ja säädetyt yrittäjää koskevat tuen myöntämisen edellytykset ja jos kysymys on metsätalouden harjoittamisesta lisäksi a säädetyt edellytykset tukea maatilaa varten voidaan myöntää yhteisesti myös aviopuolisoille joista vain toinen omistaa maatilan jos molemmat puolisot muutoin täyttävät tuen saamisen edellytykset puolisoiden tulee tällöin hakea tukea yhteisesti tuki voidaan kuitenkin myöntää yksin sille aviopuolisolle joka ei omista maatilaa vain jos hän lisäksi osoittaa pystyvänsä täyttämään maaseutuelinkeinojen rahoituslaissa säädetyt tuen valvontaa koskevat velvollisuudet haettaessa tukea rakennusinvestointiin sellaisella maatilalla jonka hakijan aviopuoliso yksin omistaa tuki voidaan myöntää jos hakijalle yksin voidaan myöntää hankkeeseen rakennuslupa ja jos hakija omistaa tuetun rakennuksen tai jos kysymys on sellaisen rakennuksen laajentamisesta tai peruskorjauksesta jota hän ei omista hakijan omistusosuus rakennuksesta hankkeen valmistumisen jälkeen vastaa vähintään hänen rahoitusosuuttaan rakennuksen arvosta hakijalla on vähintään vuotta tuen myöntämisestä voimassa oleva kohtaa vastaava rekisteröity vuokrasopimus joka voidaan tuen saajaa kuulematta siirtää kolmannelle tai hakija asettaa hyväksyttävän vakuuden tuen mahdollista takaisinperintää varten ellei jäljempänä toisin säädetä maatilan omistusta tai omistusosuutta arvioitaessa aviopuolisot katsotaan yhdeksi henkilöksi aviopuolisoon rinnastetaan myös henkilö joka avioliittoa solmimatta jatkuvasti elää hakijan kanssa yhteisessä taloudessa ammattitaito jos aviopuolisot yhdessä hakevat tukea ainakin toisen heistä tulee täyttää ja momentissa säädetyt edellytykset investointituen enimmäismäärä maatilalla toteutettavissa investoinneissa mitä momentissa säädetään sovelletaan myös myönnettäessä tukea momentin kohdassa tarkoitetuille yhteisölle metsämaan hankintaan ja sanotun momentin ― kohdassa tarkoitetuille yhteisöille maatalouteen liittyviin investointeihin maatilainvestoinniksi katsotaan myös momentissa tarkoitettu sellaisen koneen tai laitteen hankinta jota lainataan tai vuokrataan käytettäväksi yhdellä tai useammalla maatilalla tai jota käytetään urakointiin yhden tai useamman osakkaan tai jäsenen maatilalla tilanpidon aloittaminen aloittamisajankohta ratkaistaan sen luovutuskirjan tai vuokrasopimuksen allekirjoitushetken perusteella jolla yrittäjä on saanut hallintaansa maatilojen maanostolainoitus edellä estämättä maanostolainaa voidaan myöntää tulevalle tilanpidon jatkajalle sellaisen maatilan tai alueen hankkimista varten joka soveltuu lisäalueeksi hakijan vanhempien tai toisen heistä omistamaan maatilaan tai sellaiseen maatilaan jonka hakija omistaa yhdessä vanhempiensa tai heistä toisen kanssa lainan myöntämisen edellytyksenä momentissa tarkoitetulle tulevalle tilanpidon jatkajalle on että sen maatilan tai sen osan omistaja tai omistajat jonka lisäalueeksi maatila tai alue hankintaan antavat sitoumuksen siitä etteivät he luovuta maatilaa tai sen osaa muulle kuin lainan saajalle muiden yritysten kiinteistön hankinta tukea ei myönnetä rakentamattoman maan hankintaan muuhun tarkoitukseen kuin tavanomaiseen maatilatalouteen tukea kiinteistön tai sen osan hankintaan voidaan kuitenkin erityisen painavista syistä myöntää jos hankitulla alueella oleva rakennus muodostaa valtaosan kiinteistön arvosta ja se on tarpeen tämän asetuksen mukaisessa yritystoiminnassa enimmäistulot lainaan liittyvää tukea tai valtionlainaa rahoituslain ja momentissa mainittuihin tarkoituksiin ei saa myöntää sille jonka kokonaistulot ylittävät yhteensä euroa vuodessa jos hakijoina ovat aviopuolisot tai momentissa tarkoitetut henkilöt taikka toinen heistä vastaavat kokonaistulot eivät saa ylittää euroa vuodessa jos hakijana muutoin on useampi kuin yksi henkilö otetaan huomioon eniten ansaitsevan tulot tuen hakeminen tukea tilanpidon aloittamiseen haetaan luovutuskirjan tai vuokrasopimuksen luonnoksen tai luovutuskirjan esisopimuksen perusteella ja muuhun maan hankintaan asuntotilan hankinta mukaan lukien luovutussopimuksen luonnoksen tai luovutuskirjan esisopimuksen perusteella tukea voidaan kuitenkin hakea saannon tapahtumista osoittavan lopullisen asiakirjan perusteella jos saannon perusteena on pakkohuutokauppa testamentti tai perintö ainoana perillisenä taikka jos luovutuksen ajankohta on johtunut luovuttajan äkillisestä vakavasta sairastumisesta tai muusta edellä mainittuihin seikkoihin verrattavasta syystä johon luovutuksensaaja ei ole voinut vaikuttaa tukea irtaimiston hankintaan haetaan tarjouksen perusteella tukea siitoslampaiden hankintaan huutokaupasta voidaan hakea lopullisen kauppakirjan perusteella jos alustava suunnitelma aikatauluineen on toimitettu työvoima ja elinkeinokeskukseen ennen huutokauppaa luonnoksen esisopimuksen tai tarjouksen perusteella ennen hakemuksen vireille tuloa maksettu käsi tai varausraha voi olla enintään hyväksyttävän hankintahinnan omarahoitusosuuden suuruinen hakuaika tukea on haettava ennen työn kehittämishankkeen tai muun hankkeen aloittamista maan tai irtaimiston hankkimista taikka tilanpitoon tai toimenpiteeseen ryhtymistä jos tukea momentin nojalla voi hakea lopullisen asiakirjan perusteella tukea on haettava kolmen kuukauden kuluessa asiakirjan allekirjoitusajankohdasta lukien kehittämishankkeeseen myönnetyn tuen maksatus kehittämishankkeeseen myönnetty tuki maksetaan osoitettujen kustannusten mukaan vuosittain enintään kolmessa erässä mahdollinen ennakko mukaan lukien jos kehittämishanke sisältyy maaseudun yhteisöaloiteohjelmaan maksatuskertoja voi kuitenkin mahdollinen ennakko mukaan lukien olla enintään neljä ennakkona voidaan maksaa enintään prosenttia vuotuisesta avustuserästä toinen erä voidaan maksaa vasta kun ensimmäistä ja toista erää vastaava osuus hankkeesta on toteutettu ja selonteko varojen käytöstä on toimitettu työvoima ja elinkeinokeskukselle ja valtakunnallisista hankkeista maa ja metsätalousministeriölle viimeisen erän maksamisen edellytyksenä on että tuen saaja toimittaa määräajassa toiminnastaan varojen käytöstä ja hankkeen toteuttamisesta selvityksen tukipäätöksen ehtojen mukaisesti tämä asetus tulee voimaan päivänä tammikuuta asetusta sovelletaan myös asetuksen voimaan tullessa vireillä oleviin tuen myöntämistä koskeviin hakemuksiin sekä momentin osalta asetuksen voimaantulon jälkeen vireille tuleviin maksatushakemuksiin helsingissä päivänä tammikuuta maa ja metsätalousministeri juha korkeaoja ylitarkastaja marja kokkonen'"
      ]
     },
     "execution_count": 154,
     "metadata": {},
     "output_type": "execute_result"
    }
   ],
   "source": [
    "text"
   ]
  },
  {
   "cell_type": "code",
   "execution_count": null,
   "metadata": {},
   "outputs": [],
   "source": []
  }
 ],
 "metadata": {
  "kernelspec": {
   "display_name": "Python 3",
   "language": "python",
   "name": "python3"
  },
  "language_info": {
   "codemirror_mode": {
    "name": "ipython",
    "version": 3
   },
   "file_extension": ".py",
   "mimetype": "text/x-python",
   "name": "python",
   "nbconvert_exporter": "python",
   "pygments_lexer": "ipython3",
   "version": "3.7.0"
  }
 },
 "nbformat": 4,
 "nbformat_minor": 2
}
